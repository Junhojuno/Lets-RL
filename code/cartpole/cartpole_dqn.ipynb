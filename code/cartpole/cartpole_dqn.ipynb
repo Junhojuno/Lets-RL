{
 "cells": [
  {
   "cell_type": "code",
   "execution_count": 1,
   "metadata": {},
   "outputs": [],
   "source": [
    "import sys\n",
    "import gym\n",
    "import pylab\n",
    "import random\n",
    "import numpy as np\n",
    "from collections import deque\n",
    "from keras.layers import Dense\n",
    "from keras.optimizers import Adam\n",
    "from keras.models import Sequential"
   ]
  },
  {
   "cell_type": "code",
   "execution_count": 97,
   "metadata": {},
   "outputs": [],
   "source": [
    "EPISODES = 300"
   ]
  },
  {
   "cell_type": "code",
   "execution_count": 101,
   "metadata": {},
   "outputs": [],
   "source": [
    "class DQNAgent:\n",
    "    def __init__(self, state_size, action_size):\n",
    "        self.render = False\n",
    "        \n",
    "        self.state_size = state_size\n",
    "        self.action_size = action_size\n",
    "        \n",
    "        self.discount_factor = 0.99\n",
    "        self.learning_rate = 1e-3\n",
    "        self.epsilon = 1.0\n",
    "        self.epsilon_decay = 0.999\n",
    "        self.epsilon_min = 0.01\n",
    "        self.batch_size = 64\n",
    "        self.train_start = 1000\n",
    "        \n",
    "        # replay memory : 2000\n",
    "        self.memory = deque(maxlen=2000)\n",
    "        \n",
    "        # prediction model and target model\n",
    "        # DQN이기때문에 network분리\n",
    "        self.prediction_model = self.build_model()\n",
    "        self.target_model = self.build_model()\n",
    "        \n",
    "    def build_model(self):\n",
    "        model = Sequential()\n",
    "        model.add(Dense(24, input_dim=self.state_size, activation='relu', kernel_initializer='he_uniform'))\n",
    "        model.add(Dense(24, activation='relu', kernel_initializer='he_uniform'))\n",
    "        model.add(Dense(self.action_size, kernel_initializer='he_uniform'))\n",
    "        model.summary()\n",
    "        model.compile(optimizer=Adam(lr=self.learning_rate), loss='mse')\n",
    "        return model\n",
    "    \n",
    "    def update_target_model(self):\n",
    "        self.target_model.set_weights(self.prediction_model.get_weights())\n",
    "        \n",
    "    def get_action(self, state): # epsilon greedy selection\n",
    "        if np.random.rand() <= self.epsilon:\n",
    "            return random.randrange(self.action_size)\n",
    "        else:\n",
    "            q_value = self.prediction_model.predict(state)\n",
    "            return np.argmax(q_value[0])\n",
    "        \n",
    "    def append_sample(self, state, action, reward, next_state, done):\n",
    "        self.memory.append((state, action, reward, next_state, done))\n",
    "        \n",
    "    def train_model(self):\n",
    "        if self.epsilon > self.epsilon_min: # epsilon decaying\n",
    "            self.epsilon *= self.epsilon_decay\n",
    "        \n",
    "        # random uniform sampling from replay buffer(memory)\n",
    "        mini_batch = random.sample(self.memory, self.batch_size)\n",
    "        \n",
    "        states = np.zeros((self.batch_size, self.state_size))\n",
    "        next_states = np.zeros((self.batch_size, self.state_size))\n",
    "        actions, rewards, dones = [], [], []\n",
    "        \n",
    "        for i in range(self.batch_size):\n",
    "            states[i] = mini_batch[i][0]\n",
    "            actions.append(mini_batch[i][1])\n",
    "            rewards.append(mini_batch[i][2])\n",
    "            next_states[i] = mini_batch[i][3]\n",
    "            dones.append(mini_batch[i][4])\n",
    "        \n",
    "        # 처음 시작할때...fit도 안한상태에서 predict가 되나?\n",
    "        target = self.prediction_model.predict(states) # Q(s,a) setting\n",
    "        target_val = self.target_model.predict(next_states) # Q(s',a') setting\n",
    "        \n",
    "        # target updating\n",
    "        for i in range(self.batch_size):\n",
    "            if dones[i]:\n",
    "                target[i][actions[i]] = rewards[i]\n",
    "            else:\n",
    "                target[i] = rewards[i] + self.discount_factor*(np.max(target_val[i]))\n",
    "        \n",
    "        self.prediction_model.fit(states, target, epochs=1, batch_size=self.batch_size, verbose=0)"
   ]
  },
  {
   "cell_type": "code",
   "execution_count": 102,
   "metadata": {},
   "outputs": [],
   "source": [
    "# let's go\n",
    "env = gym.make('CartPole-v1')"
   ]
  },
  {
   "cell_type": "code",
   "execution_count": 103,
   "metadata": {},
   "outputs": [
    {
     "name": "stdout",
     "output_type": "stream",
     "text": [
      "state size :  4\n",
      "action_size :  2\n",
      "_________________________________________________________________\n",
      "Layer (type)                 Output Shape              Param #   \n",
      "=================================================================\n",
      "dense_10 (Dense)             (None, 24)                120       \n",
      "_________________________________________________________________\n",
      "dense_11 (Dense)             (None, 24)                600       \n",
      "_________________________________________________________________\n",
      "dense_12 (Dense)             (None, 2)                 50        \n",
      "=================================================================\n",
      "Total params: 770\n",
      "Trainable params: 770\n",
      "Non-trainable params: 0\n",
      "_________________________________________________________________\n",
      "_________________________________________________________________\n",
      "Layer (type)                 Output Shape              Param #   \n",
      "=================================================================\n",
      "dense_13 (Dense)             (None, 24)                120       \n",
      "_________________________________________________________________\n",
      "dense_14 (Dense)             (None, 24)                600       \n",
      "_________________________________________________________________\n",
      "dense_15 (Dense)             (None, 2)                 50        \n",
      "=================================================================\n",
      "Total params: 770\n",
      "Trainable params: 770\n",
      "Non-trainable params: 0\n",
      "_________________________________________________________________\n"
     ]
    }
   ],
   "source": [
    "state_size = env.observation_space.shape[0]\n",
    "action_size = env.action_space.n\n",
    "\n",
    "print(\"state size : \",state_size)\n",
    "print(\"action_size : \", action_size)\n",
    "\n",
    "agent = DQNAgent(state_size, action_size)"
   ]
  },
  {
   "cell_type": "code",
   "execution_count": 105,
   "metadata": {},
   "outputs": [],
   "source": [
    "from IPython.display import clear_output"
   ]
  },
  {
   "cell_type": "code",
   "execution_count": 106,
   "metadata": {},
   "outputs": [
    {
     "name": "stdout",
     "output_type": "stream",
     "text": [
      "episode: 299   score: 30.0   memory length: 2000   epsilon: 0.009998671593271896\n"
     ]
    },
    {
     "data": {
      "image/png": "[encoded data removed]",
      "text/plain": [
       "<Figure size 432x288 with 1 Axes>"
      ]
     },
     "metadata": {},
     "output_type": "display_data"
    }
   ],
   "source": [
    "scores, episodes = [], []\n",
    "\n",
    "for episode in range(EPISODES):\n",
    "    done = False\n",
    "    score = 0\n",
    "    # env initialize\n",
    "    state = env.reset()\n",
    "    state = state.reshape(1,-1)\n",
    "    \n",
    "    while not done:\n",
    "        if agent.render: # False로 초기화시켜놨었음\n",
    "            env.render()\n",
    "            \n",
    "        action = agent.get_action(state)\n",
    "        \n",
    "        next_state, reward, done, _ = env.step(action)\n",
    "        next_state = next_state.reshape(1,-1)\n",
    "        reward = reward if not done or score == 499 else -100\n",
    "        \n",
    "        agent.append_sample(state, action, reward, next_state, done)\n",
    "        \n",
    "        if len(agent.memory) > agent.train_start:\n",
    "            agent.train_model()\n",
    "        \n",
    "        score += reward\n",
    "        state = next_state\n",
    "        \n",
    "        if done: # 한 episode 끝남\n",
    "            # target 가중치 업데이트\n",
    "            agent.update_target_model()\n",
    "            \n",
    "            score = score if score == 500 else score + 100\n",
    "            # 에피소드마다 학습 결과 출력\n",
    "            scores.append(score)\n",
    "            episodes.append(episode)\n",
    "            pylab.plot(episodes, scores, 'b')\n",
    "            pylab.xlabel(\"episodes\")\n",
    "            pylab.ylabel(\"scores\")\n",
    "            pylab.savefig(\"./save_graph/cartpole_dqn.png\")\n",
    "            clear_output()\n",
    "            print(\"episode:\", episode, \"  score:\", score, \"  memory length:\",\n",
    "                  len(agent.memory), \"  epsilon:\", agent.epsilon)\n",
    "\n",
    "            # 이전 10개 에피소드의 점수 평균이 490보다 크면 학습 중단\n",
    "            if np.mean(scores[-min(10, len(scores)):]) > 490:\n",
    "                agent.model.save_weights(\"./save_model/cartpole_dqn.h5\")\n",
    "                sys.exit()\n"
   ]
  },
  {
   "cell_type": "code",
   "execution_count": null,
   "metadata": {},
   "outputs": [],
   "source": []
  },
  {
   "cell_type": "code",
   "execution_count": null,
   "metadata": {},
   "outputs": [],
   "source": []
  },
  {
   "cell_type": "code",
   "execution_count": null,
   "metadata": {},
   "outputs": [],
   "source": []
  }
 ],
 "metadata": {
  "kernelspec": {
   "display_name": "Python 3",
   "language": "python",
   "name": "python3"
  },
  "language_info": {
   "codemirror_mode": {
    "name": "ipython",
    "version": 3
   },
   "file_extension": ".py",
   "mimetype": "text/x-python",
   "name": "python",
   "nbconvert_exporter": "python",
   "pygments_lexer": "ipython3",
   "version": "3.6.6"
  }
 },
 "nbformat": 4,
 "nbformat_minor": 2
}
